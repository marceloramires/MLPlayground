{
 "cells": [
  {
   "cell_type": "code",
   "execution_count": null,
   "id": "84c4566a-312a-44cd-8b24-d7eac07c410b",
   "metadata": {},
   "outputs": [],
   "source": []
  }
 ],
 "metadata": {
  "kernelspec": {
   "display_name": "",
   "name": ""
  },
  "language_info": {
   "name": ""
  }
 },
 "nbformat": 4,
 "nbformat_minor": 5
}
