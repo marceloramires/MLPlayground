{
 "cells": [
  {
   "cell_type": "markdown",
   "id": "0fe29f68-c18d-4552-8b8a-392cf211433a",
   "metadata": {},
   "source": [
    "# Surname nationality classifying"
   ]
  },
  {
   "cell_type": "markdown",
   "id": "6190f08b-8a3a-449a-a24a-2d7bf40e5fd3",
   "metadata": {},
   "source": [
    "## Parameters"
   ]
  },
  {
   "cell_type": "code",
   "execution_count": null,
   "id": "17cc7b94-e8b4-4750-bbe3-bff896882f30",
   "metadata": {},
   "outputs": [],
   "source": [
    "dataset_path = '../datasets/surnames_by_nationality/*.txt'\n",
    "all_letters = string.ascii_letters + \" .,;'\"\n",
    "n_letters = len(all_letters)"
   ]
  },
  {
   "cell_type": "markdown",
   "id": "a4407b79-6479-4902-9e7e-00324b446588",
   "metadata": {},
   "source": [
    "## Loading "
   ]
  },
  {
   "cell_type": "code",
   "execution_count": 17,
   "id": "84c4566a-312a-44cd-8b24-d7eac07c410b",
   "metadata": {},
   "outputs": [
    {
     "name": "stdout",
     "output_type": "stream",
     "text": [
      "ASCII conversion: \"Ślusàrski\" -> \"Slusarski\"\n",
      "ASCII conversion: \"Frazão\" -> \"Frazao\"\n",
      "ASCII conversion: \"Muçlu\" -> \"Muclu\"\n",
      "ASCII conversion: \"François\" -> \"Francois\"\n",
      "ASCII conversion: \"áéíóú âêîôû äëïöü àèìòù ãõ\" -> \"aeiou aeiou aeiou aeiou ao\"\n",
      "First 5 italian names: ['Abandonato', 'Abatangelo', 'Abatantuono', 'Abate', 'Abategiovanni']\n"
     ]
    }
   ],
   "source": [
    "from io import open\n",
    "import glob\n",
    "import os\n",
    "import unicodedata\n",
    "import string\n",
    "\n",
    "# Turn a Unicode string to plain ASCII\n",
    "def unicodeToAscii(s):\n",
    "    return ''.join(\n",
    "        c for c in unicodedata.normalize('NFD', s)\n",
    "        if unicodedata.category(c) != 'Mn'\n",
    "        and c in all_letters\n",
    "    )\n",
    "\n",
    "for example in ['Ślusàrski', 'Frazão', 'Muçlu', 'François', 'áéíóú âêîôû äëïöü àèìòù ãõ']:\n",
    "    print('ASCII conversion: \"' + example + '\" -> \"' + unicodeToAscii(example) + '\"')\n",
    "\n",
    "# Build the category_lines dictionary, a list of names per language\n",
    "category_lines = {}\n",
    "all_categories = []\n",
    "\n",
    "# Read a file and split into lines\n",
    "def readLines(filename):\n",
    "    lines = open(filename, encoding='utf-8').read().strip().split('\\n')\n",
    "    return [unicodeToAscii(line) for line in lines]\n",
    "\n",
    "for filename in glob.glob(dataset_path):\n",
    "    category = os.path.splitext(os.path.basename(filename))[0]\n",
    "    all_categories.append(category)\n",
    "    lines = readLines(filename)\n",
    "    category_lines[category] = lines\n",
    "\n",
    "n_categories = len(all_categories)\n",
    "\n",
    "print(\"First 5 italian names:\", category_lines['Italian'][:5])"
   ]
  },
  {
   "cell_type": "code",
   "execution_count": 45,
   "id": "d7d6916a-0fa9-4ca1-a47c-92194412b088",
   "metadata": {},
   "outputs": [
    {
     "name": "stdout",
     "output_type": "stream",
     "text": [
      "tensor([[[1., 0., 0., 0., 0., 0., 0., 0., 0., 0., 0., 0., 0., 0., 0., 0., 0.,\n",
      "          0., 0., 0., 0., 0., 0., 0., 0., 0., 0., 0., 0., 0., 0., 0., 0., 0.,\n",
      "          0., 0., 0., 0., 0., 0., 0., 0., 0., 0., 0., 0., 0., 0., 0., 0., 0.,\n",
      "          0., 0., 0., 0., 0., 0.]],\n",
      "\n",
      "        [[0., 1., 0., 0., 0., 0., 0., 0., 0., 0., 0., 0., 0., 0., 0., 0., 0.,\n",
      "          0., 0., 0., 0., 0., 0., 0., 0., 0., 0., 0., 0., 0., 0., 0., 0., 0.,\n",
      "          0., 0., 0., 0., 0., 0., 0., 0., 0., 0., 0., 0., 0., 0., 0., 0., 0.,\n",
      "          0., 0., 0., 0., 0., 0.]],\n",
      "\n",
      "        [[0., 0., 1., 0., 0., 0., 0., 0., 0., 0., 0., 0., 0., 0., 0., 0., 0.,\n",
      "          0., 0., 0., 0., 0., 0., 0., 0., 0., 0., 0., 0., 0., 0., 0., 0., 0.,\n",
      "          0., 0., 0., 0., 0., 0., 0., 0., 0., 0., 0., 0., 0., 0., 0., 0., 0.,\n",
      "          0., 0., 0., 0., 0., 0.]],\n",
      "\n",
      "        [[0., 0., 0., 0., 0., 0., 0., 0., 0., 0., 0., 0., 0., 0., 0., 0., 0.,\n",
      "          0., 0., 0., 0., 0., 0., 0., 0., 0., 0., 0., 0., 0., 0., 0., 0., 0.,\n",
      "          0., 0., 0., 0., 0., 0., 0., 0., 0., 0., 0., 0., 0., 0., 0., 0., 0.,\n",
      "          0., 0., 1., 0., 0., 0.]]])\n",
      "Tensor positions:  ['0: a', '1: b', '2: c', '3: d', '4: e', '5: f', '6: g', '7: h', '8: i', '9: j', '10: k', '11: l', '12: m', '13: n', '14: o', '15: p', '16: q', '17: r', '18: s', '19: t', '20: u', '21: v', '22: w', '23: x', '24: y', '25: z', '26: A', '27: B', '28: C', '29: D', '30: E', '31: F', '32: G', '33: H', '34: I', '35: J', '36: K', '37: L', '38: M', '39: N', '40: O', '41: P', '42: Q', '43: R', '44: S', '45: T', '46: U', '47: V', '48: W', '49: X', '50: Y', '51: Z', '52:  ', '53: .', '54: ,', '55: ;', \"56: '\"]\n"
     ]
    }
   ],
   "source": [
    "import torch\n",
    "\n",
    "# Find letter index from all_letters, e.g. \"a\" = 0\n",
    "def letterToIndex(letter):\n",
    "    return all_letters.find(letter)\n",
    "\n",
    "# Turn a line into a <line_length x 1 x n_letters>,\n",
    "# or an array of one-hot letter vectors\n",
    "def lineToTensor(line):\n",
    "    tensor = torch.zeros(len(line), 1, n_letters)\n",
    "    for li, letter in enumerate(line):\n",
    "        tensor[li][0][letterToIndex(letter)] = 1\n",
    "    return tensor\n",
    "\n",
    "print(lineToTensor('abc.'))\n",
    "letter_positions = [str(i) + ': ' + c for i, c in enumerate(list(all_letters))]\n",
    "print('Tensor positions: ', letter_positions)"
   ]
  },
  {
   "cell_type": "code",
   "execution_count": 19,
   "id": "376220bd-9f0d-42d9-bc06-1c7058addb92",
   "metadata": {},
   "outputs": [
    {
     "name": "stdout",
     "output_type": "stream",
     "text": [
      "Created rnn: RNN(\n",
      "  (i2h): Linear(in_features=185, out_features=128, bias=True)\n",
      "  (h2o): Linear(in_features=128, out_features=18, bias=True)\n",
      "  (softmax): LogSoftmax(dim=1)\n",
      ")\n"
     ]
    }
   ],
   "source": [
    "import torch.nn as nn\n",
    "\n",
    "class RNN(nn.Module):\n",
    "    def __init__(self, input_size, hidden_size, output_size):\n",
    "        super(RNN, self).__init__()\n",
    "\n",
    "        self.hidden_size = hidden_size\n",
    "\n",
    "        self.i2h = nn.Linear(input_size + hidden_size, hidden_size)\n",
    "        self.h2o = nn.Linear(hidden_size, output_size)\n",
    "        self.softmax = nn.LogSoftmax(dim=1)\n",
    "\n",
    "    def forward(self, input, hidden):\n",
    "        combined = torch.cat((input, hidden), 1)\n",
    "        hidden = self.i2h(combined)\n",
    "        output = self.h2o(hidden)\n",
    "        output = self.softmax(output)\n",
    "        return output, hidden\n",
    "\n",
    "    def initHidden(self):\n",
    "        return torch.zeros(1, self.hidden_size)\n",
    "\n",
    "n_hidden = 128\n",
    "rnn = RNN(n_letters, n_hidden, n_categories)\n",
    "print('Created rnn:', rnn)"
   ]
  },
  {
   "cell_type": "code",
   "execution_count": 20,
   "id": "f0931629-59a8-4a91-ab45-f6f6f16e8626",
   "metadata": {},
   "outputs": [
    {
     "name": "stdout",
     "output_type": "stream",
     "text": [
      "tensor([[-2.9344, -2.7979, -2.8507, -2.8518, -2.9035, -2.8160, -2.9274, -2.9102,\n",
      "         -2.8480, -2.8953, -2.9198, -2.8869, -2.8957, -2.8945, -2.9357, -2.9292,\n",
      "         -2.8549, -2.9943]], grad_fn=<LogSoftmaxBackward0>)\n"
     ]
    }
   ],
   "source": [
    "input = lineToTensor('Untrained')\n",
    "hidden = torch.zeros(1, n_hidden)\n",
    "\n",
    "output, next_hidden = rnn(input[0], hidden)\n",
    "print(output)"
   ]
  },
  {
   "cell_type": "code",
   "execution_count": 21,
   "id": "250496ee-4374-4bcc-9b25-f128ba4b59f7",
   "metadata": {},
   "outputs": [
    {
     "name": "stdout",
     "output_type": "stream",
     "text": [
      "('German', 1)\n"
     ]
    }
   ],
   "source": [
    "def categoryFromOutput(output):\n",
    "    top_n, top_i = output.topk(1)\n",
    "    category_i = top_i[0].item()\n",
    "    return all_categories[category_i], category_i\n",
    "\n",
    "print(categoryFromOutput(output))"
   ]
  },
  {
   "cell_type": "code",
   "execution_count": 22,
   "id": "5681d086-4ce2-409f-baf2-5974e71eb5be",
   "metadata": {},
   "outputs": [
    {
     "name": "stdout",
     "output_type": "stream",
     "text": [
      "category = Spanish / line = Sepulveda\n",
      "category = German / line = Best\n",
      "category = Spanish / line = Orellana\n",
      "category = Irish / line = Flynn\n",
      "category = Spanish / line = Torres\n",
      "category = Japanese / line = Onishi\n",
      "category = English / line = Eaton\n",
      "category = Korean / line = Bang\n",
      "category = English / line = Roche\n",
      "category = Vietnamese / line = Doan\n"
     ]
    }
   ],
   "source": [
    "import random\n",
    "\n",
    "def randomChoice(l):\n",
    "    return l[random.randint(0, len(l) - 1)]\n",
    "\n",
    "def randomTrainingExample():\n",
    "    category = randomChoice(all_categories)\n",
    "    line = randomChoice(category_lines[category])\n",
    "    category_tensor = torch.tensor([all_categories.index(category)], dtype=torch.long)\n",
    "    line_tensor = lineToTensor(line)\n",
    "    return category, line, category_tensor, line_tensor\n",
    "\n",
    "for i in range(10):\n",
    "    category, line, category_tensor, line_tensor = randomTrainingExample()\n",
    "    print('category =', category, '/ line =', line)"
   ]
  },
  {
   "cell_type": "code",
   "execution_count": 23,
   "id": "c4049318-5fd8-42e8-a0f8-c38155c52859",
   "metadata": {},
   "outputs": [],
   "source": [
    "criterion = nn.NLLLoss()\n",
    "\n",
    "learning_rate = 0.005 # If you set this too high, it might explode. If too low, it might not learn\n",
    "\n",
    "def train(category_tensor, line_tensor):\n",
    "    hidden = rnn.initHidden()\n",
    "\n",
    "    rnn.zero_grad()\n",
    "\n",
    "    for i in range(line_tensor.size()[0]):\n",
    "        output, hidden = rnn(line_tensor[i], hidden)\n",
    "\n",
    "    loss = criterion(output, category_tensor)\n",
    "    loss.backward()\n",
    "\n",
    "    # Add parameters' gradients to their values, multiplied by learning rate\n",
    "    for p in rnn.parameters():\n",
    "        p.data.add_(p.grad.data, alpha=-learning_rate)\n",
    "\n",
    "    return output, loss.item()"
   ]
  },
  {
   "cell_type": "code",
   "execution_count": 24,
   "id": "29b21be9-e9ac-4d4c-855c-4d5d16723757",
   "metadata": {},
   "outputs": [
    {
     "name": "stdout",
     "output_type": "stream",
     "text": [
      "5000 5% (0m 2s) 3.2582 Jelen / Irish ✗ (Polish)\n",
      "10000 10% (0m 4s) 1.6420 Tsai  / Arabic ✗ (Korean)\n",
      "15000 15% (0m 6s) 1.2249 Chau / Chinese ✗ (Vietnamese)\n",
      "20000 20% (0m 8s) 2.0855 Giroux / Arabic ✗ (French)\n",
      "25000 25% (0m 10s) 1.2869 Chi / Korean ✗ (Chinese)\n",
      "30000 30% (0m 13s) 2.1713 Richard / French ✗ (German)\n",
      "35000 35% (0m 15s) 2.3993 Shintaro / Portuguese ✗ (Japanese)\n",
      "40000 40% (0m 17s) 2.0302 Dubois / Arabic ✗ (French)\n",
      "45000 45% (0m 19s) 1.5427 Toma / Japanese ✗ (Arabic)\n",
      "50000 50% (0m 21s) 1.6015 Janin / Korean ✗ (Russian)\n",
      "55000 55% (0m 23s) 0.0067 Shibasawa / Japanese ✓\n",
      "60000 60% (0m 25s) 1.9674 Lawrenz / Spanish ✗ (German)\n",
      "65000 65% (0m 28s) 0.5479 Trinh / Vietnamese ✓\n",
      "70000 70% (0m 30s) 1.3544 Gagne / Italian ✗ (French)\n",
      "75000 75% (0m 32s) 0.2795 Harb / Arabic ✓\n",
      "80000 80% (0m 34s) 0.4473 Sevriens / Dutch ✓\n",
      "85000 85% (0m 36s) 0.1043 Turunov / Russian ✓\n",
      "90000 90% (0m 39s) 1.9993 Cuevas / Greek ✗ (Spanish)\n",
      "95000 95% (0m 41s) 0.4320 Ibu / Japanese ✓\n",
      "100000 100% (0m 43s) 3.2924 Kuhn / Vietnamese ✗ (German)\n"
     ]
    }
   ],
   "source": [
    "import time\n",
    "import math\n",
    "\n",
    "n_iters = 100000\n",
    "print_every = 5000\n",
    "plot_every = 1000\n",
    "\n",
    "\n",
    "\n",
    "# Keep track of losses for plotting\n",
    "current_loss = 0\n",
    "all_losses = []\n",
    "\n",
    "def timeSince(since):\n",
    "    now = time.time()\n",
    "    s = now - since\n",
    "    m = math.floor(s / 60)\n",
    "    s -= m * 60\n",
    "    return '%dm %ds' % (m, s)\n",
    "\n",
    "start = time.time()\n",
    "\n",
    "for iter in range(1, n_iters + 1):\n",
    "    category, line, category_tensor, line_tensor = randomTrainingExample()\n",
    "    output, loss = train(category_tensor, line_tensor)\n",
    "    current_loss += loss\n",
    "\n",
    "    # Print ``iter`` number, loss, name and guess\n",
    "    if iter % print_every == 0:\n",
    "        guess, guess_i = categoryFromOutput(output)\n",
    "        correct = '✓' if guess == category else '✗ (%s)' % category\n",
    "        print('%d %d%% (%s) %.4f %s / %s %s' % (iter, iter / n_iters * 100, timeSince(start), loss, line, guess, correct))\n",
    "\n",
    "    # Add current loss avg to list of losses\n",
    "    if iter % plot_every == 0:\n",
    "        all_losses.append(current_loss / plot_every)\n",
    "        current_loss = 0"
   ]
  },
  {
   "cell_type": "code",
   "execution_count": 25,
   "id": "f1824664-d6b0-40ad-abf0-d49abac989bb",
   "metadata": {},
   "outputs": [
    {
     "data": {
      "text/plain": [
       "[<matplotlib.lines.Line2D at 0x138862710>]"
      ]
     },
     "execution_count": 25,
     "metadata": {},
     "output_type": "execute_result"
    },
    {
     "data": {
      "image/png": "[encoded data removed]",
      "text/plain": [
       "<Figure size 640x480 with 1 Axes>"
      ]
     },
     "metadata": {},
     "output_type": "display_data"
    }
   ],
   "source": [
    "import matplotlib.pyplot as plt\n",
    "import matplotlib.ticker as ticker\n",
    "\n",
    "plt.figure()\n",
    "plt.plot(all_losses)"
   ]
  },
  {
   "cell_type": "code",
   "execution_count": 26,
   "id": "2834cf2f-1d9f-42d6-9bcb-57f31ed38700",
   "metadata": {},
   "outputs": [
    {
     "name": "stderr",
     "output_type": "stream",
     "text": [
      "/var/folders/7f/9f_9q2ld6m3633v17rqfgd400000gn/T/ipykernel_82527/3585656379.py:33: UserWarning: set_ticklabels() should only be used with a fixed number of ticks, i.e. after set_ticks() or using a FixedLocator.\n",
      "  ax.set_xticklabels([''] + all_categories, rotation=90)\n",
      "/var/folders/7f/9f_9q2ld6m3633v17rqfgd400000gn/T/ipykernel_82527/3585656379.py:34: UserWarning: set_ticklabels() should only be used with a fixed number of ticks, i.e. after set_ticks() or using a FixedLocator.\n",
      "  ax.set_yticklabels([''] + all_categories)\n"
     ]
    },
    {
     "data": {
      "image/png": "[encoded data removed]",
      "text/plain": [
       "<Figure size 640x480 with 2 Axes>"
      ]
     },
     "metadata": {},
     "output_type": "display_data"
    }
   ],
   "source": [
    "# Keep track of correct guesses in a confusion matrix\n",
    "confusion = torch.zeros(n_categories, n_categories)\n",
    "n_confusion = 10000\n",
    "\n",
    "# Just return an output given a line\n",
    "def evaluate(line_tensor):\n",
    "    hidden = rnn.initHidden()\n",
    "\n",
    "    for i in range(line_tensor.size()[0]):\n",
    "        output, hidden = rnn(line_tensor[i], hidden)\n",
    "\n",
    "    return output\n",
    "\n",
    "# Go through a bunch of examples and record which are correctly guessed\n",
    "for i in range(n_confusion):\n",
    "    category, line, category_tensor, line_tensor = randomTrainingExample()\n",
    "    output = evaluate(line_tensor)\n",
    "    guess, guess_i = categoryFromOutput(output)\n",
    "    category_i = all_categories.index(category)\n",
    "    confusion[category_i][guess_i] += 1\n",
    "\n",
    "# Normalize by dividing every row by its sum\n",
    "for i in range(n_categories):\n",
    "    confusion[i] = confusion[i] / confusion[i].sum()\n",
    "\n",
    "# Set up plot\n",
    "fig = plt.figure()\n",
    "ax = fig.add_subplot(111)\n",
    "cax = ax.matshow(confusion.numpy())\n",
    "fig.colorbar(cax)\n",
    "\n",
    "# Set up axes\n",
    "ax.set_xticklabels([''] + all_categories, rotation=90)\n",
    "ax.set_yticklabels([''] + all_categories)\n",
    "\n",
    "# Force label at every tick\n",
    "ax.xaxis.set_major_locator(ticker.MultipleLocator(1))\n",
    "ax.yaxis.set_major_locator(ticker.MultipleLocator(1))\n",
    "\n",
    "# sphinx_gallery_thumbnail_number = 2\n",
    "plt.show()"
   ]
  },
  {
   "cell_type": "code",
   "execution_count": 27,
   "id": "eefd8260-35c7-4d49-97b9-0ea048e5181b",
   "metadata": {},
   "outputs": [
    {
     "name": "stdout",
     "output_type": "stream",
     "text": [
      "\n",
      "> Dovesky\n",
      "(-0.44) Russian\n",
      "(-1.14) Czech\n",
      "(-4.14) English\n",
      "\n",
      "> Jackson\n",
      "(-1.13) English\n",
      "(-1.16) Russian\n",
      "(-1.91) Scottish\n",
      "\n",
      "> Satoshi\n",
      "(-1.16) Italian\n",
      "(-1.24) Japanese\n",
      "(-1.27) Arabic\n",
      "\n",
      "> Oleary\n",
      "(-0.68) French\n",
      "(-1.31) Irish\n",
      "(-1.91) English\n",
      "\n",
      "> Frazao\n",
      "(-0.74) Portuguese\n",
      "(-1.09) Spanish\n",
      "(-1.85) Italian\n",
      "\n",
      "> Ramirez\n",
      "(-0.39) Spanish\n",
      "(-1.37) Portuguese\n",
      "(-3.65) Polish\n",
      "\n",
      "> Takahashi\n",
      "(-0.75) Italian\n",
      "(-0.76) Japanese\n",
      "(-2.98) Greek\n"
     ]
    }
   ],
   "source": [
    "def predict(input_line, n_predictions=3):\n",
    "    print('\\n> %s' % input_line)\n",
    "    with torch.no_grad():\n",
    "        output = evaluate(lineToTensor(input_line))\n",
    "\n",
    "        # Get top N categories\n",
    "        topv, topi = output.topk(n_predictions, 1, True)\n",
    "        predictions = []\n",
    "\n",
    "        for i in range(n_predictions):\n",
    "            value = topv[0][i].item()\n",
    "            category_index = topi[0][i].item()\n",
    "            print('(%.2f) %s' % (value, all_categories[category_index]))\n",
    "            predictions.append([value, all_categories[category_index]])\n",
    "\n",
    "predict('Dovesky')\n",
    "predict('Jackson')\n",
    "predict('Satoshi')\n",
    "predict('Oleary')\n",
    "predict('Frazao')\n",
    "predict('Ramirez')\n",
    "predict('Takahashi')"
   ]
  }
 ],
 "metadata": {
  "kernelspec": {
   "display_name": "Python 3 (ipykernel)",
   "language": "python",
   "name": "python3"
  },
  "language_info": {
   "codemirror_mode": {
    "name": "ipython",
    "version": 3
   },
   "file_extension": ".py",
   "mimetype": "text/x-python",
   "name": "python",
   "nbconvert_exporter": "python",
   "pygments_lexer": "ipython3",
   "version": "3.11.8"
  }
 },
 "nbformat": 4,
 "nbformat_minor": 5
}
